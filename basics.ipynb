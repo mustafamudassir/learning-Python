{
 "cells": [
  {
   "cell_type": "markdown",
   "metadata": {},
   "source": [
    "# print('Before')\n",
    "for thing in [9,41,12,3,74,15]:for thing in [9,41,12,3,74,15]:\n",
    "[9,41,12,3,74,15]:\n",
    "    print(thing)\n",
    "\n",
    "print('after')"
   ]
  },
  {
   "cell_type": "markdown",
   "metadata": {},
   "source": [
    "# largest_so_far = -1\n",
    "# print('before', largest_so_far)\n",
    "# for the_num in [9,41,12,3,74,15]:\n",
    "#     if the_num > largest_so_far:\n",
    "#         largest_so_far = the_num\n",
    "#         print(largest_so_far , the_num)\n",
    "# print('after', largest_so_far)"
   ]
  },
  {
   "cell_type": "code",
   "execution_count": 15,
   "metadata": {},
   "outputs": [
    {
     "name": "stdout",
     "output_type": "stream",
     "text": [
      "before 0\n",
      "1 9\n",
      "2 41\n",
      "3 12\n",
      "4 3\n",
      "5 74\n",
      "6 15\n",
      "after 6\n"
     ]
    }
   ],
   "source": [
    "zork = 0\n",
    "print('before', zork)\n",
    "for thing in  [9,41,12,3,74,15]:\n",
    "    zork = zork + 1\n",
    "    print(zork, thing)\n",
    "    \n",
    "print('after', zork)"
   ]
  },
  {
   "cell_type": "code",
   "execution_count": null,
   "metadata": {},
   "outputs": [],
   "source": []
  }
 ],
 "metadata": {
  "kernelspec": {
   "display_name": "Python 3",
   "language": "python",
   "name": "python3"
  },
  "language_info": {
   "codemirror_mode": {
    "name": "ipython",
    "version": 3
   },
   "file_extension": ".py",
   "mimetype": "text/x-python",
   "name": "python",
   "nbconvert_exporter": "python",
   "pygments_lexer": "ipython3",
   "version": "3.8.5"
  }
 },
 "nbformat": 4,
 "nbformat_minor": 4
}
